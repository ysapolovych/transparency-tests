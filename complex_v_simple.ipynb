{
    "cells": [
        {
            "cell_type": "markdown",
            "source": [
                "# TC data sample comparisons: \r\n",
                "We need to compare groups of indicators taken from Transparent cities Transparency dataset. The gropus are based on two criteria:\r\n",
                "1. Complex vs simple indicators: a simple indicator takemes little to moderate effort to implement and is valued at 1 point max. A complex indicator takes more effort to implement and is valued at 2 points max. Read the latest Transparency methodology at http://transparentcities.in.ua for more.\r\n",
                "2. Imperative vs non-imperative indicators: contents of an indicator may either be regulated by law (imperative) or be purely recommendational (non-imperative). A middle-ground case is when an indicator may be based on the legislation when implemented one way and may not in another.\r\n",
                "\r\n",
                "This notebook is devoted to the complex vs simple comparison. Our goals are:\r\n",
                "- To see if their means differ\r\n",
                "- To see if the differences are statisically significant."
            ],
            "metadata": {}
        },
        {
            "cell_type": "code",
            "execution_count": 1,
            "source": [
                "import pandas as pd\r\n",
                "import matplotlib.pyplot as plt\r\n",
                "import copy\r\n",
                "import numpy as np\r\n",
                "import scipy.stats as stats\r\n",
                "from statsmodels.graphics.gofplots import qqplot"
            ],
            "outputs": [],
            "metadata": {}
        },
        {
            "cell_type": "code",
            "execution_count": 2,
            "source": [
                "#load the dataset\r\n",
                "data = pd.read_excel(\"data/210903 зведена база 2020.xlsx\")"
            ],
            "outputs": [],
            "metadata": {}
        },
        {
            "cell_type": "markdown",
            "source": [
                "Let's add a binary variable for complexity."
            ],
            "metadata": {}
        },
        {
            "cell_type": "code",
            "execution_count": 3,
            "source": [
                "data['complexity'] = data['maxPoint'].map({1.0:'simple', 2.0:'complex'})\r\n",
                "#check if the operation went well - there should be two categories\r\n",
                "data['complexity'].unique()"
            ],
            "outputs": [
                {
                    "output_type": "execute_result",
                    "data": {
                        "text/plain": [
                            "array(['simple', 'complex'], dtype=object)"
                        ]
                    },
                    "metadata": {},
                    "execution_count": 3
                }
            ],
            "metadata": {}
        },
        {
            "cell_type": "markdown",
            "source": [
                "We will not compare absolute scores (which obviously differ a lot) but the average % of completion, measured as city's point divided by maximum point."
            ],
            "metadata": {}
        },
        {
            "cell_type": "code",
            "execution_count": 4,
            "source": [
                "data['percent_implemeted'] = data['point']/data['maxPoint']"
            ],
            "outputs": [],
            "metadata": {}
        },
        {
            "cell_type": "markdown",
            "source": [
                "Calculate mean of both groups"
            ],
            "metadata": {}
        },
        {
            "cell_type": "code",
            "execution_count": 5,
            "source": [
                "all_implemented = np.array(data['percent_implemeted'])\r\n",
                "simple_implemented = np.array(data[data['complexity']=='simple']['percent_implemeted'])\r\n",
                "complex_implemented = np.array(data[data['complexity']=='complex']['percent_implemeted'])"
            ],
            "outputs": [],
            "metadata": {}
        },
        {
            "cell_type": "code",
            "execution_count": 6,
            "source": [
                "# calculate means of both groups\r\n",
                "simple_mean = simple_implemented.mean()\r\n",
                "complex_mean = complex_implemented.mean()\r\n",
                "\r\n",
                "# the difference between the means of two groups is our ground truth\r\n",
                "gT = simple_mean - complex_mean\r\n",
                "\r\n",
                "print(f'Mean implementation of simple indicators: {np.round(simple_mean, 3)*100}%')\r\n",
                "print(f'Mean implementation of complex indicators: {np.round(complex_mean, 3)*100}%')\r\n",
                "print(f'Difference of means: {np.round(gT, 3)*100}%')\r\n"
            ],
            "outputs": [
                {
                    "output_type": "stream",
                    "name": "stdout",
                    "text": [
                        "Mean implementation of simple indicators: 42.8%\n",
                        "Mean implementation of complex indicators: 33.2%\n",
                        "Difference of means: 9.6%\n"
                    ]
                }
            ],
            "metadata": {}
        },
        {
            "cell_type": "markdown",
            "source": [
                "Now that we know the means and their difference, we can formulate our hypotheses.\r\n",
                "- **Null hypothesis**: there is no difference between % of implementation in two groups of indicators.\r\n",
                "- **Alternative hypothesis***: there is a difference between % of implementation in two groups of indicators."
            ],
            "metadata": {}
        },
        {
            "cell_type": "markdown",
            "source": [
                "## Normality test\r\n",
                "Now that we know the difference of averages is about 10%, let's check the distributions within our \"complex\" and \"simple\" groups. Based on the distributions, we'll decide if we should use parametric or non-parametric test to assess the significance."
            ],
            "metadata": {}
        },
        {
            "cell_type": "code",
            "execution_count": 7,
            "source": [
                "# for simple indicators\r\n",
                "stats.normaltest(simple_implemented)"
            ],
            "outputs": [
                {
                    "output_type": "execute_result",
                    "data": {
                        "text/plain": [
                            "NormaltestResult(statistic=134307.81210266633, pvalue=0.0)"
                        ]
                    },
                    "metadata": {},
                    "execution_count": 7
                }
            ],
            "metadata": {}
        },
        {
            "cell_type": "code",
            "execution_count": 8,
            "source": [
                "#for complex indicators\r\n",
                "stats.normaltest(complex_implemented)"
            ],
            "outputs": [
                {
                    "output_type": "execute_result",
                    "data": {
                        "text/plain": [
                            "NormaltestResult(statistic=958.8718971194835, pvalue=6.075934934167223e-209)"
                        ]
                    },
                    "metadata": {},
                    "execution_count": 8
                }
            ],
            "metadata": {}
        },
        {
            "cell_type": "markdown",
            "source": [
                "The test has shown that the distributions are as far from normal as it gets. Let's see how they look."
            ],
            "metadata": {}
        },
        {
            "cell_type": "code",
            "execution_count": 9,
            "source": [
                "np.random.seed(1)\r\n",
                "plt.hist(simple_implemented)\r\n",
                "plt.show()"
            ],
            "outputs": [
                {
                    "output_type": "display_data",
                    "data": {
                        "image/png": "[encoded data removed]",
                        "text/plain": [
                            "<Figure size 432x288 with 1 Axes>"
                        ]
                    },
                    "metadata": {
                        "needs_background": "light"
                    }
                }
            ],
            "metadata": {}
        },
        {
            "cell_type": "code",
            "execution_count": 10,
            "source": [
                "np.random.seed(1)\r\n",
                "plt.hist(complex_implemented)\r\n",
                "plt.show()"
            ],
            "outputs": [
                {
                    "output_type": "display_data",
                    "data": {
                        "image/png": "[encoded data removed]",
                        "text/plain": [
                            "<Figure size 432x288 with 1 Axes>"
                        ]
                    },
                    "metadata": {
                        "needs_background": "light"
                    }
                }
            ],
            "metadata": {}
        },
        {
            "cell_type": "markdown",
            "source": [
                "## Test\r\n",
                "We'll discover the statistical significance of our data with permutation test."
            ],
            "metadata": {}
        },
        {
            "cell_type": "code",
            "execution_count": 11,
            "source": [
                "# create a copy of array with % of implementation ot be shuffled for permutations\r\n",
                "all_copy = copy.copy(all_implemented)"
            ],
            "outputs": [],
            "metadata": {}
        },
        {
            "cell_type": "code",
            "execution_count": 12,
            "source": [
                "# get the sizes of the samples\r\n",
                "simple_size = len(simple_implemented)\r\n",
                "complex_size = len(complex_implemented)"
            ],
            "outputs": [],
            "metadata": {}
        },
        {
            "cell_type": "code",
            "execution_count": 13,
            "source": [
                "# create an array to srore permutations\r\n",
                "permutations = []\r\n",
                "# set the number of permutations\r\n",
                "n = 1000"
            ],
            "outputs": [],
            "metadata": {}
        },
        {
            "cell_type": "code",
            "execution_count": 14,
            "source": [
                "# permute the data\r\n",
                "\r\n",
                "for i in range(0, n):\r\n",
                "    np.random.shuffle(all_copy)\r\n",
                "    permutations.append(np.abs(all_copy[0:simple_size].mean() - all_copy[simple_size:].mean()))"
            ],
            "outputs": [],
            "metadata": {}
        },
        {
            "cell_type": "code",
            "execution_count": 15,
            "source": [
                "# our p-value is the proportion of cases where the differene is higher or equal to our \r\n",
                "# ground truth divided by n of permutations\r\n",
                "p_val = len(np.where(permutations>=gT)[0])/n\r\n",
                "print(f'p-value: {p_val}')"
            ],
            "outputs": [
                {
                    "output_type": "stream",
                    "name": "stdout",
                    "text": [
                        "p-value: 0.0\n"
                    ]
                }
            ],
            "metadata": {}
        },
        {
            "cell_type": "markdown",
            "source": [
                "Our p-value is 0.0, meaning that no mean from the shuffled samples was larger than the difference between the means of the actual groups. Which also means that **we can safely reject the null hypothesis**. "
            ],
            "metadata": {}
        },
        {
            "cell_type": "code",
            "execution_count": 16,
            "source": [
                "# let's also look at the permutations distribution\r\n",
                "fig, ax = plt.subplots()\r\n",
                "\r\n",
                "ax.hist(permutations, bins=20, density=True)\r\n",
                "ax.axvline(gT, ls='--', color='r')\r\n",
                "plt.show()"
            ],
            "outputs": [
                {
                    "output_type": "display_data",
                    "data": {
                        "image/png": "[encoded data removed]",
                        "text/plain": [
                            "<Figure size 432x288 with 1 Axes>"
                        ]
                    },
                    "metadata": {
                        "needs_background": "light"
                    }
                }
            ],
            "metadata": {}
        }
    ],
    "metadata": {
        "orig_nbformat": 4,
        "language_info": {
            "name": "python",
            "version": "3.9.6",
            "mimetype": "text/x-python",
            "codemirror_mode": {
                "name": "ipython",
                "version": 3
            },
            "pygments_lexer": "ipython3",
            "nbconvert_exporter": "python",
            "file_extension": ".py"
        },
        "kernelspec": {
            "name": "python3",
            "display_name": "Python 3.9.6 64-bit ('datascience_env': venv)"
        },
        "interpreter": {
            "hash": "cabc192ba65a21681ecda4c6c7674712875282aa5e5124d0b605101152b39fee"
        }
    },
    "nbformat": 4,
    "nbformat_minor": 2
}